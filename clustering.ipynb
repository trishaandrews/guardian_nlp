{
 "cells": [
  {
   "cell_type": "code",
   "execution_count": 4,
   "metadata": {
    "collapsed": true
   },
   "outputs": [],
   "source": [
    "## programming | python (scikit) web | html (d3, git) platform | sql, aws\n",
    "\n",
    "import pickle\n",
    "import string\n",
    "import itertools\n",
    "import scipy\n",
    "import json\n",
    "\n",
    "from pprint import pprint\n",
    "\n",
    "from sklearn.feature_extraction.text import TfidfVectorizer\n",
    "from sklearn.cluster import KMeans\n",
    "from sklearn.metrics import adjusted_rand_score\n",
    "\n",
    "from nltk.corpus import stopwords\n",
    "\n",
    "import matplotlib.pyplot as plt\n",
    "import matplotlib.ticker as tkr\n",
    "import seaborn as sns\n",
    "\n",
    "%matplotlib inline"
   ]
  },
  {
   "cell_type": "code",
   "execution_count": 38,
   "metadata": {
    "collapsed": true
   },
   "outputs": [],
   "source": [
    "r_state = 8\n",
    "topic = \"all\""
   ]
  },
  {
   "cell_type": "code",
   "execution_count": 39,
   "metadata": {
    "collapsed": false
   },
   "outputs": [],
   "source": [
    "with open(topic+\"_authors.pkl\", 'r') as out_auths:\n",
    "    authors = pickle.load(out_auths)\n",
    "#with open(topic+\"_labels.pkl\", 'r') as las:\n",
    "#    author_labels = pickle.load(las)\n",
    "#print author_labels"
   ]
  },
  {
   "cell_type": "code",
   "execution_count": 40,
   "metadata": {
    "collapsed": false
   },
   "outputs": [
    {
     "name": "stdout",
     "output_type": "stream",
     "text": [
      "[(1, u\"Sean O'Hagan\"), (1, u\"Sean O'Hagan\")] [(4, u'Guardian sport'), (4, u'Guardian sport')]\n",
      "[(1, 'arts'), (2, 'politics'), (3, 'science'), (4, 'sports')]\n"
     ]
    }
   ],
   "source": [
    "#with open(topic+\"_auth_sents.pkl\", 'r') as ins:\n",
    "#    sents = pickle.load(ins)\n",
    "if topic == \"all\":\n",
    "    with open(topic+\"_topics_authors.pkl\", 'r') as tains:\n",
    "        topics_authors = pickle.load(tains)\n",
    "    print topics_authors[:2], topics_authors[-2:]   \n",
    "with open(topic+\"_labels.pkl\", 'r') as las:\n",
    "    labels = pickle.load(las)\n",
    "    print labels"
   ]
  },
  {
   "cell_type": "code",
   "execution_count": 41,
   "metadata": {
    "collapsed": false
   },
   "outputs": [
    {
     "name": "stdout",
     "output_type": "stream",
     "text": [
      "[27, 4.703703703703703, 0.0, 0.0, 0.0, 0.0, 0.0, 0.0, 0.0, 0.0, 0.0, 0.0, 0.0, 0.0, 0.0, 0.0, 4.844187086458591, 0.0, 0.0, 0.0, 0.0, 0.0, 0.0, 0.0, 0.0, 0.0, 0.0, 0.0, 0.0, 0.0, 0.0, 0.0, 0.0, 0.0, 0.0, 0.0, 0.0, 0.0, 0.0, 4.151039905898646, 0.0, 0.0, 0.0, 0.0, 0.0, 0.0, 0.0, 0.0, 4.844187086458591, 0.0, 0.0, 0.0, 0.0, 0.0, 0.0, 0.0, 0.0, 0.0, 0.0, 0.0, 4.844187086458591, 0.0, 0.0, 0.0, 0.0, 0.0, 0.0, 0.0, 0.0, 0.0, 0.0, 0.0, 0.0, 0.0, 0.0, 0.0, 0.0, 0.0, 0.0, 0.0, 0.0, 0.0, 0.0, 0.0, 0.0, 0.0, 0.0, 0.0, 0.0, 0.0, 0.0, 4.151039905898646, 0.0, 4.844187086458591, 0.0, 0.0, 0.0, 0.0, 0.0, 4.844187086458591, 0.0, 0.0, 0.0, 0.0, 0.0, 0.0, 0.0, 4.151039905898646, 0.0, 0.0, 0.0, 0.0, 0.0, 0.0, 0.0, 0.0, 0.0, 0.0, 0.0, 0.0, 0.0, 0.0, 0.0, 0.0, 0.0, 0.0, 0.0, 0.0, 0.0, 0.0, 4.844187086458591, 0.0, 0.0, 0.0, 0.0, 0.0, 0.0, 0.0, 0.0, 0.0, 0.0, 0.0, 0.0, 0.0, 0.0, 0.0, 0.0, 0.0, 0.0, 4.844187086458591, 0.0, 0.0, 0.0, 0.0, 4.844187086458591, 0.0, 0.0, 0.0, 0.0, 0.0, 0.0, 0.0, 0.0, 0.0, 0.0, 0.0]\n",
      "11643\n",
      "[('len_s', 27), ('len_w', 4.703703703703703), (u'!', 0), (u'\"', 0), (u'#', 0), (u'$', 0), (u'%', 0), (u'&', 0), (u\"'\", 0), (u\"''\", 0), (u'(', 0), (u')', 0), (u'*', 0), (u'+', 0), (u',', 0), (u'-', 0), (u'.', 1), (u'/', 0), (u':', 0), (u';', 0), (u'<', 0), (u'=', 0), (u'>', 0), (u'?', 0), (u'@', 0), (u'[', 0), (u'\\\\', 0), (u']', 0), (u'^', 0), (u'_', 0), (u'`', 0), (u'``', 0), (u'{', 0), (u'|', 0), (u'}', 0), (u'~', 0), (u'\\u2013', 0), (\"'s\", 0), (\"'t\", 0), (u'a', 2), (u'about', 0), (u'above', 0), (u'after', 0), (u'again', 0), (u'against', 0), (u'all', 0), (u'am', 0), (u'an', 0), (u'and', 1), (u'any', 0), (u'are', 0), (u'as', 0), (u'at', 0), (u'be', 0), (u'because', 0), (u'been', 0), (u'before', 0), (u'being', 0), (u'below', 0), (u'between', 0), (u'both', 1), (u'but', 0), (u'by', 0), (u'can', 0), (u'did', 0), (u'do', 0), (u'does', 0), (u'doing', 0), (u'don', 0), (u'down', 0), (u'during', 0), (u'each', 0), (u'few', 0), (u'for', 0), (u'from', 0), (u'further', 0), (u'had', 0), (u'has', 0), (u'have', 0), (u'having', 0), (u'he', 0), (u'her', 0), (u'here', 0), (u'hers', 0), (u'herself', 0), (u'him', 0), (u'himself', 0), (u'his', 0), (u'how', 0), (u'i', 0), (u'if', 0), (u'in', 2), (u'into', 0), (u'is', 1), (u'it', 0), (u'its', 0), (u'itself', 0), (u'just', 0), (u'me', 0), (u'more', 1), (u'most', 0), (u'my', 0), (u'myself', 0), (u'no', 0), (u'nor', 0), (u'not', 0), (u'now', 0), (u'of', 2), (u'off', 0), (u'on', 0), (u'once', 0), (u'only', 0), (u'or', 0), (u'other', 0), (u'our', 0), (u'ours', 0), (u'ourselves', 0), (u'out', 0), (u'over', 0), (u'own', 0), (u's', 0), (u'same', 0), (u'she', 0), (u'should', 0), (u'so', 0), (u'some', 0), (u'such', 0), (u't', 0), (u'than', 0), (u'that', 0), (u'the', 1), (u'their', 0), (u'theirs', 0), (u'them', 0), (u'themselves', 0), (u'then', 0), (u'there', 0), (u'these', 0), (u'they', 0), (u'this', 0), (u'those', 0), (u'through', 0), (u'to', 0), (u'too', 0), (u'under', 0), (u'until', 0), (u'up', 0), (u'very', 0), (u'was', 0), (u'we', 1), (u'were', 0), (u'what', 0), (u'when', 0), (u'where', 0), (u'which', 1), (u'while', 0), (u'who', 0), (u'whom', 0), (u'why', 0), (u'will', 0), (u'with', 0), (u'you', 0), (u'your', 0), (u'yours', 0), (u'yourself', 0), (u'yourselves', 0)]\n"
     ]
    }
   ],
   "source": [
    "#Sentence features\n",
    "#Sentence length, avg word length, abs(log(punc_freq)), abs(log(stopword_freq))\n",
    "#with open(topic+\"_features.pkl\", 'r') as outs:\n",
    "#    features = pickle.load(outs)\n",
    "with open(topic+\"_features.pkl\", 'r') as outs:\n",
    "    features = pickle.load(outs)\n",
    "print features[0]\n",
    "print len(features)\n",
    "\n",
    "with open(topic+\"_raw_features.pkl\", 'r') as rfouts:\n",
    "    rf_counts = pickle.load(rfouts)\n",
    "print rf_counts[0]"
   ]
  },
  {
   "cell_type": "code",
   "execution_count": null,
   "metadata": {
    "collapsed": true
   },
   "outputs": [],
   "source": []
  },
  {
   "cell_type": "code",
   "execution_count": 42,
   "metadata": {
    "collapsed": true
   },
   "outputs": [],
   "source": [
    "def run_k_means(X, k):\n",
    "    model = KMeans(n_clusters=k, max_iter=100, random_state=r_state) #init='k-means++'\n",
    "    model.fit(X)\n",
    "    print(\"Top terms per cluster:\")\n",
    "    order_centroids = model.cluster_centers_.argsort()[:, ::-1]\n",
    "    \n",
    "    #terms = raw_features\n",
    "    terms = rf_counts\n",
    "    #print order_centroids\n",
    "    for i in range(len(model.cluster_centers_)):\n",
    "        print \"Cluster %d:\" % i,\n",
    "        for ind in order_centroids[i, :10]:\n",
    "            print terms[0][ind][0], \n",
    "            #f_ind = features.index(ind)\n",
    "            #print f_ind\n",
    "            #print ' %s' % terms\n",
    "        print\n",
    "    return model"
   ]
  },
  {
   "cell_type": "code",
   "execution_count": 43,
   "metadata": {
    "collapsed": false
   },
   "outputs": [
    {
     "name": "stdout",
     "output_type": "stream",
     "text": [
      "all sentence features\n",
      "Top terms per cluster:\n",
      "Cluster 0: len_s . len_w the , of a to and in\n",
      "Cluster 1: len_s len_w . the , a to of in and\n",
      "Cluster 2: len_s . len_w , the of and to a in\n",
      "Cluster 3: len_s for to and 's what we this a –\n",
      "Cluster 4: len_s . len_w , the of and to a in\n",
      "Cluster 5: len_s . and to , a len_w of the in\n"
     ]
    }
   ],
   "source": [
    "k2 = 6 #5, 6\n",
    "print topic, \"sentence features\"\n",
    "feature_model = run_k_means(features, k2)"
   ]
  },
  {
   "cell_type": "code",
   "execution_count": 8,
   "metadata": {
    "collapsed": false
   },
   "outputs": [
    {
     "name": "stdout",
     "output_type": "stream",
     "text": [
      "2 3 4 5 6 7 8 9 10 11 12 13 14 15\n"
     ]
    }
   ],
   "source": [
    "fks = range(2,16)\n",
    "f_inertias = []\n",
    "for k in fks:\n",
    "    print k,\n",
    "    model = KMeans(n_clusters=k, max_iter=100, random_state=r_state) #init='k-means++'\n",
    "    model.fit(features)\n",
    "    f_inertias.append(model.inertia_)"
   ]
  },
  {
   "cell_type": "code",
   "execution_count": 9,
   "metadata": {
    "collapsed": false
   },
   "outputs": [
    {
     "data": {
      "image/png": "[encoded data removed]",
      "text/plain": [
       "<matplotlib.figure.Figure at 0x7f64112aadd0>"
      ]
     },
     "metadata": {},
     "output_type": "display_data"
    }
   ],
   "source": [
    "ax = plt.subplot(111)\n",
    "plt.plot(fks, f_inertias)\n",
    "plt.xlabel(\"k\")\n",
    "plt.ylabel(\"inertia\")\n",
    "plt.title(\"Inertias vs K value, all authors, features only\")\n",
    "plt.show()"
   ]
  },
  {
   "cell_type": "code",
   "execution_count": 44,
   "metadata": {
    "collapsed": false
   },
   "outputs": [
    {
     "name": "stdout",
     "output_type": "stream",
     "text": [
      "[0 4 0 0 4 0 0 1 0 4]\n"
     ]
    }
   ],
   "source": [
    "cluster_numbers_f = feature_model.predict(features)\n",
    "print cluster_numbers_f[:10]"
   ]
  },
  {
   "cell_type": "code",
   "execution_count": 45,
   "metadata": {
    "collapsed": false
   },
   "outputs": [
    {
     "name": "stdout",
     "output_type": "stream",
     "text": [
      "(6, 166)\n"
     ]
    }
   ],
   "source": [
    "f_centroids = feature_model.cluster_centers_\n",
    "print f_centroids.shape"
   ]
  },
  {
   "cell_type": "code",
   "execution_count": 46,
   "metadata": {
    "collapsed": true
   },
   "outputs": [],
   "source": [
    "#def node(index_, cluster_, authorname_, topic_):\n",
    "#    index = index_\n",
    "#    cluster = cluster_\n",
    "#    authorname = authorname_\n",
    "#    topic = topic_\n",
    "    \n",
    "    "
   ]
  },
  {
   "cell_type": "code",
   "execution_count": 47,
   "metadata": {
    "collapsed": false
   },
   "outputs": [],
   "source": [
    "#node(1,2,3,4)\n",
    "#print node.cluster"
   ]
  },
  {
   "cell_type": "code",
   "execution_count": 48,
   "metadata": {
    "collapsed": false
   },
   "outputs": [
    {
     "name": "stdout",
     "output_type": "stream",
     "text": [
      "3847\n"
     ]
    }
   ],
   "source": [
    "#calculate which cluster each sentence belongs to\n",
    "c_labels_f = range(f_centroids.shape[0])\n",
    "clusters_dict_f = {el:[] for el in c_labels_f}\n",
    "#print clusters_dict_all\n",
    "#count = 0\n",
    "\n",
    "for i, cna in enumerate(cluster_numbers_f):\n",
    "    clusters_dict_f[cna].append(i)\n",
    "\n",
    "#print clusters_dict_f[len(c_labels_f)-1]\n",
    "print len(clusters_dict_f[0])"
   ]
  },
  {
   "cell_type": "code",
   "execution_count": 49,
   "metadata": {
    "collapsed": false
   },
   "outputs": [
    {
     "name": "stdout",
     "output_type": "stream",
     "text": [
      "0\n",
      "1\n",
      "2\n",
      "3\n",
      "4\n",
      "5\n",
      "[(5.4388337922993175, 0, 11214, 3847), (3.139681295275067, 1, 1128, 3744), (12.161924018354103, 2, 8766, 1089), (29.85951730891869, 3, 744, 16), (9.0803464076544742, 4, 1114, 2736), (17.102440854228657, 5, 5048, 211)]\n"
     ]
    }
   ],
   "source": [
    "mins = []\n",
    "for lab, inds in clusters_dict_f.iteritems():\n",
    "    xs = []\n",
    "    print lab\n",
    "    #print inds\n",
    "    mindist = (9999999,9999,9999, len(inds))\n",
    "    for ind in inds:\n",
    "        #nodes.append({\"index\": ind, \"cluster\": lab, \"author\": topics_authors[ind][1], \\\n",
    "        #              \"topic\": labels[authors[ind]-1][1]})\n",
    "        #print ind\n",
    "        xs.append(features[ind])\n",
    "        \n",
    "        dist = scipy.spatial.distance.euclidean(features[ind], f_centroids[lab])\n",
    "        if dist < mindist[0]:\n",
    "            mindist = (dist, lab, ind, len(inds))\n",
    "    mins.append(mindist)\n",
    "print mins"
   ]
  },
  {
   "cell_type": "code",
   "execution_count": 50,
   "metadata": {
    "collapsed": false,
    "scrolled": false
   },
   "outputs": [
    {
     "name": "stdout",
     "output_type": "stream",
     "text": [
      "cluster: 0\n",
      "[('len_s', 22), ('len_w', 3.727272727272727), (u',', 3), (u'a', 2), (u'of', 2), (u'the', 2), (u'.', 1), (u'!', 0), (u'\"', 0), (u'#', 0), (u'$', 0), (u'%', 0), (u'&', 0), (u\"'\", 0), (u\"''\", 0), (\"'s\", 0), (\"'t\", 0), (u'(', 0), (u')', 0), (u'*', 0)]\n",
      "topic: sports, author: Les Carpenter, and 3846 similar sentences\n",
      "\n",
      "cluster: 1\n",
      "[('len_s', 10), ('len_w', 3.6), (u',', 2), (u'.', 1), (u'!', 0), (u'\"', 0), (u'#', 0), (u'$', 0), (u'%', 0), (u'&', 0), (u\"'\", 0), (u\"''\", 0), (\"'s\", 0), (\"'t\", 0), (u'(', 0), (u')', 0), (u'*', 0), (u'+', 0), (u'-', 0), (u'/', 0)]\n",
      "topic: arts, author: Jonathan Jones, and 3743 similar sentences\n",
      "\n",
      "cluster: 2\n",
      "[('len_s', 57), (u',', 13), ('len_w', 3.43859649122807), (u'-', 3), (u'the', 2), (\"'s\", 1), (u'.', 1), (u'a', 1), (u'for', 1), (u'of', 1), (u'!', 0), (u'\"', 0), (u'#', 0), (u'$', 0), (u'%', 0), (u'&', 0), (u\"'\", 0), (u\"''\", 0), (\"'t\", 0), (u'(', 0)]\n",
      "topic: sports, author: DJ Gallo, and 1088 similar sentences\n",
      "\n",
      "cluster: 3\n",
      "[('len_s', 274), (u'the', 15), (u'of', 9), (u'that', 8), (u'in', 7), (\"'s\", 6), (u',', 6), (u'and', 6), (u'a', 5), (u'it', 5), (u'what', 5), ('len_w', 4.547445255474453), (u'to', 4), (u'\\u2013', 3), (u'&', 2), (u'an', 2), (u'as', 2), (u'be', 2), (u'has', 2), (u'how', 2)]\n",
      "topic: arts, author: Jonathan Jones, and 15 similar sentences\n",
      "\n",
      "cluster: 4\n",
      "[('len_s', 35), ('len_w', 4.514285714285714), (u',', 3), (u'a', 3), (u'.', 1), (u'and', 1), (u'in', 1), (u'the', 1), (u'with', 1), (u'!', 0), (u'\"', 0), (u'#', 0), (u'$', 0), (u'%', 0), (u'&', 0), (u\"'\", 0), (u\"''\", 0), (\"'s\", 0), (\"'t\", 0), (u'(', 0)]\n",
      "topic: arts, author: Jonathan Jones, and 2735 similar sentences\n",
      "\n",
      "cluster: 5\n",
      "[('len_s', 95), (u',', 9), ('len_w', 4.821052631578947), (u'the', 4), (u'a', 3), (u'of', 3), (u':', 2), (u'and', 2), (u'for', 2), (u'in', 2), (u'this', 2), (u\"''\", 1), (\"'s\", 1), (u'.', 1), (u'``', 1), (u'by', 1), (u'from', 1), (u'on', 1), (u'own', 1), (u'that', 1)]\n",
      "topic: politics, author: Tom McCarthy, and 210 similar sentences\n",
      "\n"
     ]
    }
   ],
   "source": [
    "for m in mins:\n",
    "    print \"cluster:\", m[1]\n",
    "    if topic == \"all\":\n",
    "        print sorted(rf_counts[m[2]], key=lambda x:(-x[1],x[0]))[:20]\n",
    "        print \"topic: %s, author: %s, and %s similar sentences\" \\\n",
    "              %(labels[authors[m[2]]-1][1], topics_authors[m[2]][1], m[3]-1)\n",
    "        print \n",
    "    else:\n",
    "        print sorted(rf_counts[m[2]], key=lambda x:(-x[1],x[0]))[:20]\n",
    "        print m[3], \"total sentences\" #\"author:\", \\ #labels[authors[m[2]]-1][1], \"with\", "
   ]
  },
  {
   "cell_type": "code",
   "execution_count": 17,
   "metadata": {
    "collapsed": false
   },
   "outputs": [
    {
     "name": "stdout",
     "output_type": "stream",
     "text": [
      "102\n"
     ]
    }
   ],
   "source": [
    "nodes = []\n",
    "count = 0\n",
    "for lab, inds in clusters_dict_f.iteritems():\n",
    "    labcount = 0\n",
    "    for ind in inds:\n",
    "        if topic == \"all\":\n",
    "            auth = topics_authors[ind][1]\n",
    "            tpc = labels[authors[ind]-1][1]\n",
    "        else:\n",
    "            auth = labels[authors[ind]-1][1]\n",
    "            tpc = topic\n",
    "        \n",
    "        if labcount > 0:\n",
    "            for node in nodes[count-1:]:\n",
    "                #print \"node!\", node\n",
    "                if node[\"cluster\"] == lab and node[\"author\"] == auth and \\\n",
    "                                              node[\"topic\"] == tpc:\n",
    "                    node[\"count\"] += 1\n",
    "                else:\n",
    "                    nodes.append({\"index\": count, \"cluster\": lab, \"author\": auth, \\\n",
    "                                  \"topic\": tpc, \"count\": 1, \"links\": []})\n",
    "                    count += 1\n",
    "        else:\n",
    "            nodes.append({\"index\": count, \"cluster\": lab, \"author\": auth, \\\n",
    "                                  \"topic\": tpc, \"count\": 1, \"links\": []})       \n",
    "            count += 1\n",
    "        labcount += 1\n",
    "        #print count, labcount\n",
    "print len(nodes)\n",
    "#print nodes"
   ]
  },
  {
   "cell_type": "code",
   "execution_count": 18,
   "metadata": {
    "collapsed": false
   },
   "outputs": [],
   "source": [
    "links = []\n",
    "nodes = sorted(nodes, key=lambda k: k[\"index\"])\n",
    "for i, n in enumerate(nodes[:-1]):\n",
    "    count = 1\n",
    "    for n2 in nodes[i+1:]:\n",
    "        #if topic != \"all\":\n",
    "        if n[\"cluster\"] == n2[\"cluster\"]:\n",
    "            links.append({\"source\": n[\"index\"], \"target\": n2[\"index\"], \"value\": 1})\n",
    "            n[\"links\"].append(n2[\"index\"])\n",
    "            n2[\"links\"].append(n[\"index\"])\n",
    "            count += 1\n",
    "        #else:\n",
    "        #    if n[\"cluster\"] == n2[\"cluster\"]:# and count <=3:\n",
    "        #        links.append({\"source\": n[\"index\"], \"target\": n2[\"index\"], \"value\": 1})\n",
    "        #        n[\"links\"].append(n2[\"index\"])\n",
    "        #        n2[\"links\"].append(n[\"index\"])\n",
    "        #        count += 1\n",
    "        #if n[\"cluster\"] == n2[\"cluster\"]:\n",
    "        #else:\n",
    "        #    break\n",
    "\n",
    "\n",
    "        "
   ]
  },
  {
   "cell_type": "code",
   "execution_count": 19,
   "metadata": {
    "collapsed": false
   },
   "outputs": [
    {
     "name": "stdout",
     "output_type": "stream",
     "text": [
      "102\n",
      "[{'count': 209, 'index': 0, 'links': [1, 2, 3, 4, 5, 6, 7, 8, 9, 10, 11, 12, 13, 14, 15, 16, 17, 18, 19], 'author': u\"Sean O'Hagan\", 'topic': 'arts', 'cluster': 0}, {'count': 273, 'index': 1, 'links': [0, 2, 3, 4, 5, 6, 7, 8, 9, 10, 11, 12, 13, 14, 15, 16, 17, 18, 19], 'author': u'Jonathan Jones', 'topic': 'arts', 'cluster': 0}, {'count': 371, 'index': 2, 'links': [0, 1, 3, 4, 5, 6, 7, 8, 9, 10, 11, 12, 13, 14, 15, 16, 17, 18, 19], 'author': u'Judith Mackrell', 'topic': 'arts', 'cluster': 0}, {'count': 136, 'index': 3, 'links': [0, 1, 2, 4, 5, 6, 7, 8, 9, 10, 11, 12, 13, 14, 15, 16, 17, 18, 19], 'author': u'Dorian Lynskey', 'topic': 'arts', 'cluster': 0}, {'count': 229, 'index': 4, 'links': [0, 1, 2, 3, 5, 6, 7, 8, 9, 10, 11, 12, 13, 14, 15, 16, 17, 18, 19], 'author': u'Paul Lewis', 'topic': 'politics', 'cluster': 0}]\n",
      "934\n",
      "[{'source': 0, 'target': 1, 'value': 1}, {'source': 0, 'target': 2, 'value': 1}, {'source': 0, 'target': 3, 'value': 1}, {'source': 0, 'target': 4, 'value': 1}, {'source': 0, 'target': 5, 'value': 1}]\n"
     ]
    }
   ],
   "source": [
    "print len(nodes)\n",
    "print nodes[:5]\n",
    "\n",
    "print len(links)\n",
    "print links[:5]"
   ]
  },
  {
   "cell_type": "code",
   "execution_count": 20,
   "metadata": {
    "collapsed": false
   },
   "outputs": [],
   "source": [
    "#print json.dumps({\"c\": 0, \"b\": 0, \"a\": 0}, sort_keys=True)"
   ]
  },
  {
   "cell_type": "code",
   "execution_count": 21,
   "metadata": {
    "collapsed": true
   },
   "outputs": [],
   "source": [
    "nodeslinks = json.dumps({\"nodes\": nodes, \"links\": links}, sort_keys=True)"
   ]
  },
  {
   "cell_type": "code",
   "execution_count": 22,
   "metadata": {
    "collapsed": true
   },
   "outputs": [],
   "source": [
    "with open(topic+\"_nodeslinks.json\", 'w') as nlout:\n",
    "    nlout.write(nodeslinks)\n"
   ]
  },
  {
   "cell_type": "code",
   "execution_count": null,
   "metadata": {
    "collapsed": true
   },
   "outputs": [],
   "source": []
  }
 ],
 "metadata": {
  "kernelspec": {
   "display_name": "Python 2",
   "language": "python",
   "name": "python2"
  },
  "language_info": {
   "codemirror_mode": {
    "name": "ipython",
    "version": 2
   },
   "file_extension": ".py",
   "mimetype": "text/x-python",
   "name": "python",
   "nbconvert_exporter": "python",
   "pygments_lexer": "ipython2",
   "version": "2.7.6"
  }
 },
 "nbformat": 4,
 "nbformat_minor": 0
}
