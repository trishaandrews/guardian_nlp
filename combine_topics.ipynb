{
 "cells": [
  {
   "cell_type": "code",
   "execution_count": 2,
   "metadata": {
    "collapsed": true
   },
   "outputs": [],
   "source": [
    "import pickle"
   ]
  },
  {
   "cell_type": "code",
   "execution_count": 3,
   "metadata": {
    "collapsed": true
   },
   "outputs": [],
   "source": [
    "topics = [\"arts\", \"politics\", \"science\", \"sports\"]\n",
    "new_topic = \"all\""
   ]
  },
  {
   "cell_type": "code",
   "execution_count": 6,
   "metadata": {
    "collapsed": false
   },
   "outputs": [],
   "source": [
    "bytopic = [] #number label for each topic, replaces authors\n",
    "bytopic_features = []\n",
    "bytopic_rfeatures = []\n",
    "bytopic_sents = {}\n",
    "labels = []\n",
    "topics_authors = []\n",
    "topic_lab = 1\n",
    "for topic in topics:\n",
    "    labels.append((topic_lab, topic)) #number to name of topic reference\n",
    "\n",
    "    with open(topic+\"_features.pkl\", 'r') as outs:\n",
    "        features = pickle.load(outs)\n",
    "    \n",
    "    bytopic_features += features\n",
    "    \n",
    "    with open(topic+\"_auth_sents.pkl\", 'r') as ins:\n",
    "        sents = pickle.load(ins)\n",
    "    \n",
    "    combined_sents = []\n",
    "    \n",
    "    for author, sentences in sents.iteritems():\n",
    "        for sentence in sentences:\n",
    "            combined_sents.append(sentence)\n",
    "            bytopic.append(topic_lab) #keep track of which topic each sentence comes from\n",
    "            topics_authors.append((topic_lab, author))\n",
    "            \n",
    "    bytopic_sents[topic] = combined_sents\n",
    "            \n",
    "    with open(topic+\"_raw_features.pkl\", 'r') as rfouts:\n",
    "        rf_counts = pickle.load(rfouts)\n",
    "        \n",
    "    bytopic_rfeatures += rf_counts\n",
    "    \n",
    "    topic_lab += 1"
   ]
  },
  {
   "cell_type": "code",
   "execution_count": 7,
   "metadata": {
    "collapsed": false
   },
   "outputs": [
    {
     "name": "stdout",
     "output_type": "stream",
     "text": [
      "[(1, 'arts'), (2, 'politics'), (3, 'science'), (4, 'sports')]\n",
      "bytopic 11643\n",
      "rfbytopic 11643\n",
      "bytopic feats 11643\n",
      "bytopic sents 4 <type 'dict'>\n",
      "topics authors [(1, u\"Sean O'Hagan\"), (1, u\"Sean O'Hagan\")] [(4, u'Guardian sport'), (4, u'Guardian sport')]\n"
     ]
    }
   ],
   "source": [
    "print labels\n",
    "print \"bytopic\", len(bytopic)\n",
    "print \"rfbytopic\", len(bytopic_rfeatures)\n",
    "print \"bytopic feats\", len(bytopic_features)\n",
    "print \"bytopic sents\", len(bytopic_sents), type(bytopic_sents)\n",
    "print \"topics authors\", topics_authors[:2], topics_authors[-2:] "
   ]
  },
  {
   "cell_type": "code",
   "execution_count": 8,
   "metadata": {
    "collapsed": true
   },
   "outputs": [],
   "source": [
    "with open(new_topic+\"_authors.pkl\", 'w') as out_auths:\n",
    "    pickle.dump(bytopic, out_auths)\n",
    "    \n",
    "with open(new_topic+\"_labels.pkl\", 'w') as las:\n",
    "    pickle.dump(labels, las)\n",
    "    \n",
    "with open(new_topic+\"_features.pkl\", 'w') as outs:\n",
    "    pickle.dump(bytopic_features, outs)\n",
    "    \n",
    "with open(new_topic+\"_auth_sents.pkl\", 'w') as ins:\n",
    "    pickle.dump(bytopic_sents, ins)\n",
    "\n",
    "with open(new_topic+\"_raw_features.pkl\", 'w') as rfouts:\n",
    "    pickle.dump(bytopic_rfeatures, rfouts)\n",
    "    \n",
    "with open(new_topic+\"_topics_authors.pkl\", 'w') as taouts:\n",
    "    pickle.dump(topics_authors, taouts)"
   ]
  },
  {
   "cell_type": "code",
   "execution_count": 9,
   "metadata": {
    "collapsed": false
   },
   "outputs": [
    {
     "name": "stdout",
     "output_type": "stream",
     "text": [
      "politics 3580\n",
      "arts 2988\n",
      "sports 3604\n",
      "science 1471\n"
     ]
    }
   ],
   "source": [
    "for k, v in bytopic_sents.iteritems():\n",
    "    print k, len(v)"
   ]
  },
  {
   "cell_type": "code",
   "execution_count": null,
   "metadata": {
    "collapsed": true
   },
   "outputs": [],
   "source": []
  }
 ],
 "metadata": {
  "kernelspec": {
   "display_name": "Python 2",
   "language": "python",
   "name": "python2"
  },
  "language_info": {
   "codemirror_mode": {
    "name": "ipython",
    "version": 2
   },
   "file_extension": ".py",
   "mimetype": "text/x-python",
   "name": "python",
   "nbconvert_exporter": "python",
   "pygments_lexer": "ipython2",
   "version": "2.7.6"
  }
 },
 "nbformat": 4,
 "nbformat_minor": 0
}
