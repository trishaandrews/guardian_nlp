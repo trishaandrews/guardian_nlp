{
 "cells": [
  {
   "cell_type": "code",
   "execution_count": 1,
   "metadata": {
    "collapsed": false
   },
   "outputs": [],
   "source": [
    "import math\n",
    "import pickle\n",
    "import requests \n",
    "import json\n",
    "import string\n",
    "from pprint import pprint\n",
    "from collections import Counter, defaultdict\n",
    "\n",
    "from nltk import sent_tokenize, word_tokenize, pos_tag, ne_chunk\n",
    "from nltk.corpus import stopwords\n",
    "#from nameparser.parser import HumanName"
   ]
  },
  {
   "cell_type": "code",
   "execution_count": 3,
   "metadata": {
    "collapsed": true
   },
   "outputs": [],
   "source": [
    "topic = \"politics\""
   ]
  },
  {
   "cell_type": "code",
   "execution_count": 6,
   "metadata": {
    "collapsed": false,
    "scrolled": true
   },
   "outputs": [
    {
     "name": "stdout",
     "output_type": "stream",
     "text": [
      "i me my myself we our ours ourselves you your yours yourself yourselves he him his himself she her hers herself it its itself they them their theirs themselves what which who whom this that these those am is are was were be been being have has had having do does did doing a an the and but if or because as until while of at by for with about against between into through during before after above below to from up down in out on off over under again further then once here there when where why how all any both each few more most other some such no nor not only own same so than too very s t can will just don should now 's 't\n"
     ]
    }
   ],
   "source": [
    "swords = stopwords.words('english')\n",
    "swords.append('\\'s')\n",
    "swords.append('\\'t')\n",
    "for s in swords:\n",
    "    print s,"
   ]
  },
  {
   "cell_type": "code",
   "execution_count": 203,
   "metadata": {
    "collapsed": false
   },
   "outputs": [],
   "source": [
    "with open(\"guardian_api.txt\", 'r') as f:\n",
    "    api_key = f.next().strip()"
   ]
  },
  {
   "cell_type": "code",
   "execution_count": 204,
   "metadata": {
    "collapsed": false
   },
   "outputs": [],
   "source": [
    "def get_content(pg):\n",
    "    api_url = 'http://content.guardianapis.com/search'\n",
    "    payload = {\n",
    "        'api-key':              api_key,\n",
    "        'page-size':            50,\n",
    "        'page':                 pg,\n",
    "        #'q':                    'art OR music OR photography OR dance',\n",
    "        #'q':                    'science OR astronomy OR space OR medicine',\n",
    "        #'q':                    'sports OR soccer OR football OR game',\n",
    "        'q':                    'party OR policy OR democrat OR republican', \n",
    "        #'order-by':             'newest',\n",
    "        #'show-editors-picks':   'true',\n",
    "        #'show-elements':        'image',\n",
    "        'show-blocks':          'body',\n",
    "        'show-fields':          'byline, wordcount',\n",
    "        #'show-tags':            'all',\n",
    "        #'show-references':      'author',\n",
    "        'format':               'json'\n",
    "    }\n",
    "    response = requests.get(api_url, params=payload)\n",
    "    #response = response.replace(\"'\", '\"')\n",
    "    #data = json.loads(response)\n",
    "    data = response.json() # convert json to python-readable format \n",
    "    return data\n"
   ]
  },
  {
   "cell_type": "code",
   "execution_count": 205,
   "metadata": {
    "collapsed": false
   },
   "outputs": [
    {
     "name": "stdout",
     "output_type": "stream",
     "text": [
      "ok\n",
      "ok\n",
      "ok\n",
      "ok\n",
      "ok\n",
      "ok\n",
      "ok\n",
      "ok\n",
      "ok\n",
      "ok\n"
     ]
    }
   ],
   "source": [
    "all_data = []\n",
    "for i in range(1, 11):\n",
    "    data = get_content(i)\n",
    "    print data[\"response\"][\"status\"]\n",
    "    res = data[\"response\"][\"results\"]\n",
    "    all_data += res\n",
    "#print data[\"response\"][\"status\"]"
   ]
  },
  {
   "cell_type": "code",
   "execution_count": 206,
   "metadata": {
    "collapsed": false
   },
   "outputs": [
    {
     "name": "stdout",
     "output_type": "stream",
     "text": [
      "500\n"
     ]
    }
   ],
   "source": [
    "print len(all_data)"
   ]
  },
  {
   "cell_type": "code",
   "execution_count": 207,
   "metadata": {
    "collapsed": false
   },
   "outputs": [
    {
     "name": "stdout",
     "output_type": "stream",
     "text": [
      "{u'apiUrl': u'http://content.guardianapis.com/us-news/2015/jun/09/carly-fiorina-foreign-policy-republican-interview',\n",
      " u'blocks': {u'body': [{u'attributes': {},\n",
      "                        u'bodyHtml': u'<p>Carly Fiorina has chutzpah. The former CEO of Hewlett Packett isn\\u2019t just running for the Republican nomination for president <a href=\"http://www.theguardian.com/us-news/2015/may/03/carly-fiorina-run-for-president-hewlett-packard\">on a platform of managerial expertise</a> after a controversial tenure at that technology company from 1999 to 2005. She\\u2019s running as a foreign policy maven despite having never served in elected office.</p> <p>In an interview with the Guardian on Saturday, Fiorina bragged that she \\u201cknows more world leaders on the stage\\u201d than any of her competitors for the 2016 nomination, a claim she echoed in a speech shortly afterwards at Iowa senator Joni Ernst\\u2019s <a href=\"http://www.theguardian.com/us-news/2015/jun/06/republican-2016-iowa-joni-ernst-roast-ride\">inaugural Roast and Ride fundraiser.</a> The former CEO argued that she \\u201cconducted business and charitable work\\u201d with world leaders \\u201cfor many years\\u201d. She contrasted herself with mere politicians by saying: \\u201cI don\\u2019t do photo ops. I don\\u2019t do <a href=\"http://en.wiktionary.org/wiki/codel\">codels</a> [congressional delegations].\\u201d Fiorina insisted \\u201cI know these people. I know how they think about us.\\u201d</p> <p>Her foreign policy worldview, though, seemed to be more focused on criticism of the Obama administration than any overarching philosophy \\u2013 in contrast to fellow GOP hopefuls such as <a href=\"http://www.theguardian.com/us-news/2015/jun/07/lindsey-graham-republican-party-iowa-2016\">Lindsey Graham</a> or Rand Paul. Fiorina seemed to divide hostile countries into \\u201cenemies\\u201d and \\u201cadversaries\\u201d. For example, China is an \\u201cadversary\\u201d but \\u201cnot an enemy yet\\u201d and certainly not \\u201cin Iran\\u2019s category or even Russia\\u2019s category\\u201d. Yet her skepticism about China did not extend to automatic support for the Trans Pacific Partnership, <a href=\"http://www.washingtonpost.com/politics/some-in-administration-consider-tpp-aimed-mostly-at-china/2015/05/18/599ccc78-fb2e-11e4-9ef4-1bb7ce3b3fb7_story.html\">a trade deal</a> which many in both parties think is crucial to combating Chinese influence in east Asia.</p> <p>Fiorina didn\\u2019t take a position on the controversial legislation, saying: \\u201cThe [Obama] administration has a track record of setting out lofty goals that sound really good and never telling us about the details and the details are always very different than the goals.\\u201d She went on to say that she would not have supported granting Barack Obama trade promotion authority, the ability to submit a trade deal to Congress for an up-and-down vote without amendment which was recently approved in the Senate by a narrow margin, unless she knew \\u201cwhat\\u2019s in the [TPP].\\u201d</p> <p>The former Hewlett Packard executive was just as wary of recent congressional action to approve <a href=\"http://www.theguardian.com/us-news/2015/may/31/nsa-reform-senate-deal-as-patriot-act\">the USA Freedom Act,</a> the first significant rollback of government surveillance since the Carter administration. Fiorina thought the compromise bill, approved by an overwhelming majority in the House of Representatives, \\u201cfeels like a rushed solution\\u201d and did not \\u201cthink it was a step in the right direction\\u201d for the government to relinquish control of telephone metadata and let the phone carriers hold it instead.</p> <p>On domestic policy, Fiorina has long occupied a niche in the Republican field as perhaps the most vehement critic of the Democratic frontrunner Hillary Clinton, a role for which there is considerable competition. In her speech at the Roast and Ride, she said she \\u201cwas gratified\\u201d that she won a poll as the candidate who Republican voters most wanted to see debate Clinton.</p> <p>She was certainly hostile to Clinton\\u2019s most recent policy proposal, which called for automatic voter registration of every eligible American. \\u201cI don\\u2019t think it\\u2019s a good idea unless there are some safeguards on who is registering,\\u201d said Fiorina. The former tech company CEO added: \\u201cWe know, for example, in a state like New Hampshire, people drive across the border from Massachusetts, register the same day and vote and then drive back home to Massachusetts. We know that goes on.\\u201d (One Massachusetts resident <a href=\"http://www.rawstory.com/2014/06/voter-fraud-massachusetts-democrat-pleads-guilty-to-voting-in-new-hampshire-primary/\">was prosecuted</a> in 2014 for voting in two New Hampshire Democratic presidential primaries. A state prosecutor at the time told Reuters he was unaware of any other similar case of voter fraud in the Granite State.) </p> <p>Fiorina then went on to harangue Clinton for accusing the GOP of \\u201ctrying to disenfranchise poor people and minorities\\u201d. She argued: \\u201cIf it\\u2019s such a commonsense proposal why was it accompanied by such vitriol?\\u201d</p> <p>Instead, Fiorina suggested using technology to harness the popular will, using the same tools long employed by reality television shows like American Idol. She said, if elected, during her speeches she would ask people \\u201cto take out their smartphones\\u201d and vote on various questions. \\u201cPress one for yes, press two for no. That technology exists.\\u201d Fiorina thought this would reinvigorate the political process and \\u201cpeople would be excited to be engaged in the critical questions of their time\\u201d.</p> <p>Although her campaign is lagging in the polls, Fiorina is picking up legislative endorsements in New Hampshire and Iowa and has kept perhaps the most active schedule of any Republican candidate so far in those states. It showed this week when Fiorina had perhaps the most visible presence of any campaign at the Roast and Ride on Saturday with volunteers and supporters in bold red T-shirts emblazoned with her first name \\u201cCarly\\u201d.</p> <p>Fiorina is currently on a three-day trip to New Hampshire where she has just received the endorsement of Gene Chandler, 17-term state representative and former speaker of the state house. </p>',\n",
      "                        u'bodyTextSummary': u'Carly Fiorina has chutzpah. The former CEO of Hewlett Packett isn\\u2019t just running for the Republican nomination for president on a platform of managerial expertise after a controversial tenure at that technology company from 1999 to 2005. She\\u2019s running as a foreign policy maven despite having never served in elected office. In an interview with the Guardian on Saturday, Fiorina bragged that she \\u201cknows more world leaders on the stage\\u201d than any of her competitors for the 2016 nomination, a claim she echoed in a speech shortly afterwards at Iowa senator Joni Ernst\\u2019s inaugural Roast and Ride fundraiser. The former CEO argued that she \\u201cconducted business and charitable work\\u201d with world leaders \\u201cfor many years\\u201d. She contrasted herself with mere politicians by saying: \\u201cI don\\u2019t do photo ops. I don\\u2019t do codels [congressional delegations].\\u201d Fiorina insisted \\u201cI know these people. I know how they think about us.\\u201d Her foreign policy worldview, though, seemed to be more focused on criticism of the Obama administration than any overarching philosophy \\u2013 in contrast to fellow GOP hopefuls such as Lindsey Graham or Rand Paul. Fiorina seemed to divide hostile countries into \\u201cenemies\\u201d and \\u201cadversaries\\u201d. For example, China is an \\u201cadversary\\u201d but \\u201cnot an enemy yet\\u201d and certainly not \\u201cin Iran\\u2019s category or even Russia\\u2019s category\\u201d. Yet her skepticism about China did not extend to automatic support for the Trans Pacific Partnership, a trade deal which many in both parties think is crucial to combating Chinese influence in east Asia. Fiorina didn\\u2019t take a position on the controversial legislation, saying: \\u201cThe [Obama] administration has a track record of setting out lofty goals that sound really good and never telling us about the details and the details are always very different than the goals.\\u201d She went on to say that she would not have supported granting Barack Obama trade promotion authority, the ability to submit a trade deal to Congress for an up-and-down vote without amendment which was recently approved in the Senate by a narrow margin, unless she knew \\u201cwhat\\u2019s in the [TPP].\\u201d The former Hewlett Packard executive was just as wary of recent congressional action to approve the USA Freedom Act, the first significant rollback of government surveillance since the Carter administration. Fiorina thought the compromise bill, approved by an overwhelming majority in the House of Representatives, \\u201cfeels like a rushed solution\\u201d and did not \\u201cthink it was a step in the right direction\\u201d for the government to relinquish control of telephone metadata and let the phone carriers hold it instead. On domestic policy, Fiorina has long occupied a niche in the Republican field as perhaps the most vehement critic of the Democratic frontrunner Hillary Clinton, a role for which there is considerable competition. In her speech at the Roast and Ride, she said she \\u201cwas gratified\\u201d that she won a poll as the candidate who Republican voters most wanted to see debate Clinton. She was certainly hostile to Clinton\\u2019s most recent policy proposal, which called for automatic voter registration of every eligible American. \\u201cI don\\u2019t think it\\u2019s a good idea unless there are some safeguards on who is registering,\\u201d said Fiorina. The former tech company CEO added: \\u201cWe know, for example, in a state like New Hampshire, people drive across the border from Massachusetts, register the same day and vote and then drive back home to Massachusetts. We know that goes on.\\u201d (One Massachusetts resident was prosecuted in 2014 for voting in two New Hampshire Democratic presidential primaries. A state prosecutor at the time told Reuters he was unaware of any other similar case of voter fraud in the Granite State.) Fiorina then went on to harangue Clinton for accusing the GOP of \\u201ctrying to disenfranchise poor people and minorities\\u201d. She argued: \\u201cIf it\\u2019s such a commonsense proposal why was it accompanied by such vitriol?\\u201d Instead, Fiorina suggested using technology to harness the popular will, using the same tools long employed by reality television shows like American Idol. She said, if elected, during her speeches she would ask people \\u201cto take out their smartphones\\u201d and vote on various questions. \\u201cPress one for yes, press two for no. That technology exists.\\u201d Fiorina thought this would reinvigorate the political process and \\u201cpeople would be excited to be engaged in the critical questions of their time\\u201d. Although her campaign is lagging in the polls, Fiorina is picking up legislative endorsements in New Hampshire and Iowa and has kept perhaps the most active schedule of any Republican candidate so far in those states. It showed this week when Fiorina had perhaps the most visible presence of any campaign at the Roast and Ride on Saturday with volunteers and supporters in bold red T-shirts emblazoned with her first name \\u201cCarly\\u201d. Fiorina is currently on a three-day trip to New Hampshire where she has just received the endorsement of Gene Chandler, 17-term state representative and former speaker of the state house.',\n",
      "                        u'contributors': [],\n",
      "                        u'createdBy': {u'email': u'ben.jacobs@guardian.co.uk',\n",
      "                                       u'firstName': u'Ben',\n",
      "                                       u'lastName': u'Jacobs'},\n",
      "                        u'createdDate': u'2015-06-09T00:16:52.502+01:00',\n",
      "                        u'firstPublishedDate': u'2015-06-09T00:16:56.791+01:00',\n",
      "                        u'id': u'55762264e4b06840f0819fe6',\n",
      "                        u'lastModifiedBy': {u'email': u'caitlin.curran@guardian.co.uk',\n",
      "                                            u'firstName': u'Caitlin',\n",
      "                                            u'lastName': u'Curran'},\n",
      "                        u'lastModifiedDate': u'2015-06-09T17:03:14.002+01:00',\n",
      "                        u'published': True,\n",
      "                        u'publishedDate': u'2015-06-09T17:03:14.144+01:00'}]},\n",
      " u'fields': {u'byline': u'Ben Jacobs in Boone, Iowa'},\n",
      " u'id': u'us-news/2015/jun/09/carly-fiorina-foreign-policy-republican-interview',\n",
      " u'sectionId': u'us-news',\n",
      " u'sectionName': u'US news',\n",
      " u'type': u'article',\n",
      " u'webPublicationDate': u'2015-06-09T13:03:45Z',\n",
      " u'webTitle': u\"Carly Fiorina claims foreign policy as her strong suit: 'I don't do photo ops'\",\n",
      " u'webUrl': u'http://www.theguardian.com/us-news/2015/jun/09/carly-fiorina-foreign-policy-republican-interview'}\n"
     ]
    }
   ],
   "source": [
    "#pprint(res[0])\n",
    "pprint(all_data[0])"
   ]
  },
  {
   "cell_type": "code",
   "execution_count": 208,
   "metadata": {
    "collapsed": false
   },
   "outputs": [
    {
     "name": "stdout",
     "output_type": "stream",
     "text": [
      "Carly Fiorina has chutzpah. The former CEO of Hewlett Packett isn’t just running for the Republican nomination for president on a platform of managerial expertise after a controversial tenure at that technology company from 1999 to 2005. She’s running as a foreign policy maven despite having never served in elected office. In an interview with the Guardian on Saturday, Fiorina bragged that she “knows more world leaders on the stage” than any of her competitors for the 2016 nomination, a claim she echoed in a speech shortly afterwards at Iowa senator Joni Ernst’s inaugural Roast and Ride fundraiser. The former CEO argued that she “conducted business and charitable work” with world leaders “for many years”. She contrasted herself with mere politicians by saying: “I don’t do photo ops. I don’t do codels [congressional delegations].” Fiorina insisted “I know these people. I know how they think about us.” Her foreign policy worldview, though, seemed to be more focused on criticism of the Obama administration than any overarching philosophy – in contrast to fellow GOP hopefuls such as Lindsey Graham or Rand Paul. Fiorina seemed to divide hostile countries into “enemies” and “adversaries”. For example, China is an “adversary” but “not an enemy yet” and certainly not “in Iran’s category or even Russia’s category”. Yet her skepticism about China did not extend to automatic support for the Trans Pacific Partnership, a trade deal which many in both parties think is crucial to combating Chinese influence in east Asia. Fiorina didn’t take a position on the controversial legislation, saying: “The [Obama] administration has a track record of setting out lofty goals that sound really good and never telling us about the details and the details are always very different than the goals.” She went on to say that she would not have supported granting Barack Obama trade promotion authority, the ability to submit a trade deal to Congress for an up-and-down vote without amendment which was recently approved in the Senate by a narrow margin, unless she knew “what’s in the [TPP].” The former Hewlett Packard executive was just as wary of recent congressional action to approve the USA Freedom Act, the first significant rollback of government surveillance since the Carter administration. Fiorina thought the compromise bill, approved by an overwhelming majority in the House of Representatives, “feels like a rushed solution” and did not “think it was a step in the right direction” for the government to relinquish control of telephone metadata and let the phone carriers hold it instead. On domestic policy, Fiorina has long occupied a niche in the Republican field as perhaps the most vehement critic of the Democratic frontrunner Hillary Clinton, a role for which there is considerable competition. In her speech at the Roast and Ride, she said she “was gratified” that she won a poll as the candidate who Republican voters most wanted to see debate Clinton. She was certainly hostile to Clinton’s most recent policy proposal, which called for automatic voter registration of every eligible American. “I don’t think it’s a good idea unless there are some safeguards on who is registering,” said Fiorina. The former tech company CEO added: “We know, for example, in a state like New Hampshire, people drive across the border from Massachusetts, register the same day and vote and then drive back home to Massachusetts. We know that goes on.” (One Massachusetts resident was prosecuted in 2014 for voting in two New Hampshire Democratic presidential primaries. A state prosecutor at the time told Reuters he was unaware of any other similar case of voter fraud in the Granite State.) Fiorina then went on to harangue Clinton for accusing the GOP of “trying to disenfranchise poor people and minorities”. She argued: “If it’s such a commonsense proposal why was it accompanied by such vitriol?” Instead, Fiorina suggested using technology to harness the popular will, using the same tools long employed by reality television shows like American Idol. She said, if elected, during her speeches she would ask people “to take out their smartphones” and vote on various questions. “Press one for yes, press two for no. That technology exists.” Fiorina thought this would reinvigorate the political process and “people would be excited to be engaged in the critical questions of their time”. Although her campaign is lagging in the polls, Fiorina is picking up legislative endorsements in New Hampshire and Iowa and has kept perhaps the most active schedule of any Republican candidate so far in those states. It showed this week when Fiorina had perhaps the most visible presence of any campaign at the Roast and Ride on Saturday with volunteers and supporters in bold red T-shirts emblazoned with her first name “Carly”. Fiorina is currently on a three-day trip to New Hampshire where she has just received the endorsement of Gene Chandler, 17-term state representative and former speaker of the state house.\n",
      "Ben Jacobs in Boone, Iowa\n"
     ]
    }
   ],
   "source": [
    "if \"blocks\" in all_data[0] and \"fields\" in all_data[0]:\n",
    "    print(all_data[0][\"blocks\"][\"body\"][0][\"bodyTextSummary\"])\n",
    "    print(all_data[0][\"fields\"][\"byline\"])\n",
    "    #print(all_data[0][\"webPublicationDate\"][:4])"
   ]
  },
  {
   "cell_type": "code",
   "execution_count": 209,
   "metadata": {
    "collapsed": true
   },
   "outputs": [],
   "source": [
    "def get_human_names(text):\n",
    "    if \" and \" in text or \" with \" in text:\n",
    "        #don't really deal with multiple authors\n",
    "        return text\n",
    "    elif \" in \" in text:\n",
    "        #assume same name in different locations is \n",
    "        # still the same person\n",
    "        ind = text.find(\" in \")\n",
    "        return text[:ind]\n",
    "    else:\n",
    "        return text"
   ]
  },
  {
   "cell_type": "code",
   "execution_count": 5,
   "metadata": {
    "collapsed": true
   },
   "outputs": [],
   "source": [
    "def dd():\n",
    "    return \"\""
   ]
  },
  {
   "cell_type": "code",
   "execution_count": 211,
   "metadata": {
    "collapsed": false
   },
   "outputs": [
    {
     "name": "stdout",
     "output_type": "stream",
     "text": [
      "[u'Ben Jacobs', u'Frances Perraudin', u'Ben Jacobs', u'Scott Keyes', u'Michael Cohen', u'Ben Jacobs ', u'Ben Jacobs', u'Paul Lewis', u'Ben Jacobs', u'Jessica Glenza', u'Ben Jacobs in Washington, Sabrina Siddiqui  in Manchester and Jeb Lund', u'Ryan Felton', u'Alan Yuhas with Paul Lewis in Cleveland, Jeb Lund in Tampa, Ben Jacobs in Atlanta, Dan Roberts and Sabrina Siddiqui in Washington and Adam Gabbatt in New York', u'Amanda Holpuch', u'Tom McCarthy', u'Tom Dart', u'Martin Kettle', u'Jeb Lund', u'Paul Lewis', u'Sabrina Siddiqui', u'Observer editorial', u'Dan Roberts', u'Frances Perraudin', u'Paul Lewis', u'Dan Roberts and Sabrina Siddiqui Washington', u'David Boyle', u'Rupert Myers', u'Anna Leach', u'Paul Lewis', u'Ben Jacobs', u'Paul Lewis', u'Jeb Lund', u'Alan Yuhas', u'Scott Lemieux', u'Sabrina Siddiqui', u'Alan Yuhas', u'Paul Lewis', u'Alan Yuhas', u'Patrick Wintour, political editor', u'Frances Perraudin', u'Gary Younge', u'Ben Jacobs in Washington and Alan Yuhas in New York', u'Tom McCarthy', u'Paul Lewis ', u'Frances Perraudin', u'Sabrina Siddiqui', u'Paul Lewis', u'Sabrina Siddiqui', u'Tom McCarthy', u'Sabrina Siddiqui', u'Dan Roberts', u'Ben Jacobs', u'Dan Roberts', u'Jeb Lund', u'Sabrina Siddiqui', u'Tom Dart', u'Amanda Holpuch', u'Ben Jacobs', u'Nicky Woolf', u'Paul Lewis', u'Tom McCarthy', u'Martin Pengelly', u'Ed Pilkington', u'Rose Hackman', u'Tom McCarthy in New York and Ben Jacobs in Washington', u'Ben Jacobs', u'Oliver Laughland', u'Spencer Ackerman', u'Jeb Lund', u'Sabrina Siddiqui', u'Daniel Boffey', u'Rowena Mason, political correspondent', u'Saeed Kamali Dehghan', u'Lauren Gambino', u'Tom McCarthy', u'Nicky Woolf', u'Ben Jacobs', u'Frances Perraudin\\r\\n', u'Tom Dart', u'Jeb Lund', u'Martin Pengelly', u'Jeb Lund', u'Gustavo Arellano', u'Ben Jacobs', u'Tom McCarthy', u'Jeb Lund', u'Dan Roberts', u'Ben Jacobs', u'John Longworth and Caron Lindsay', u'Saba Ahmed', u'Letters', u'Dan Roberts', u'Alan Yuhas', u'Alan Yuhas', u'Ryan Felton in Detroit and Associated Press', u'Tom McCarthy', u'Peter Beaumont', u'Editorial', u'Alan Yuhas', u'Nadia Khomami, Claire Phippsand Andrew Sparrow', u'Nicky Woolf', u'Julian Borger Diplomatic editor', u'Katharine Murphy Deputy political editor', u'Editorial', u'Lauren Gambino', u'Dan Roberts', u'Kim Thomas and Jane Dudman', u'Ben Jacobs', u'Frances Perraudin', u'Jon Swaine', u'Patrick Wintour Political editor', u'Dan Roberts in Washington and Martin Pengelly in New York', u'Paul Lewis and Dan Roberts in Washington', u'Ben Jacobs', u'Ed Pilkington', u'Nicholas Watt and Patrick Wintour', u'Owen Gibson', u'Jon Swaine', u'Amanda Holpuch', u'Jessica Valenti', u'Editorial', u'Dr David Givens', u'Edward Helmore and Ben Jacobs', u'Lauren Gambino', u'Nigel M Smith', u'Martin Pengelly', u'Tom McCarthy', u'Steven W Thrasher', u'Hadley Freeman', u'Mahita Gajanan', u'Lauren Gambino', u'Michael Cohen', u'Jeb Lund', u'Sam Thielman', u'Dan Roberts', u'Martin Kettle', u'Jeb Lund', u'Ben Jacobs', u'Alan Yuhas', u'Alan Yuhas', u'David Dayen', u'Tom McCarthy in New York and Ben Jacobs in Baltimore', u'Jeb Lund', u'Sabrina Siddiqui', u'Jana Kasperkevic', u'Frances Perraudin', u'Dan Roberts', u'Dan Roberts', u'Tom Dart', u'Monica Tan and Matthew Weaver', u'Donna Ferguson', u'Sabrina Siddiqui', u'Dan Roberts and Paul Lewis in Washington', u'Paul Lewis', u'Sabrina Siddiqui', u'Adam Gabbatt', u'Denis Campbell Health correspondent', u'Edward Helmore', u'Ben Jacobs', u'Suzanne Goldenberg', u'Ben Jacobs', u'Suzanne Goldenberg US environment correspondent, and Sabrina Siddiqui in Derry, New Hampshire', u'Daniel Hurst and Shalailah Medhora', u'Dan Roberts', u'Denis Campbell and Owen Bowcott', u'Tom McCarthy', u'Toby Helm', u'Jessica Murphy', u'Jessica Valenti', u'Dana Nuccitelli', u'Kevin Rawlinson and agencies', u'Dan Roberts', u'Patrick Wintour Political editor', u'Martin Pengelly', u'Ben Jacobs in Washington and Tom Dart', u'Sabrina Siddiqui', u'Ben Jacobs', u'David Crouch', u'Patrick Wintour Political editor', u'Richard Luscombe', u'Ben Jacobs', u'Alberto Nardelli , Feilding Cage and Kenton Powell', u'Paul Lewis', u'Ben Jacobs and Russ Choma in Washington', u'Suzanne Goldenberg', u'Kayla Epstein', u'Paul Lewis  and Dan Roberts in Washington', u'Ben Jacobs', u'Dana Nuccitelli', u'Frances Perraudin', u'Paul Lewis and Suzanne Goldenberg Washington', u'Dan Roberts', u'Andrew Sparrow , Jamie Grierson, Claire Phipps and Mark Smith', u'Ewen MacAskill', u'Rory Carroll', u'Tom McCarthy', u'Karl Mathiesen', u'Paul Lewis', u'Sabrina Siddiqui', u'Ben Jacobs', u'Alan Yuhas and Lauren Gambino in New York', u'Dan Roberts', u'Tom McCarthy', u'Bridie Jabour', u'Denis Campbell Health correspondent', u'John Harris', u'Andrew Sparrow,  Jamie Grierson and Peter Walker', u'Alan Yuhas', u'Andrew Sparrow, Nadia Khomami and Mark Smith', u'Sabrina Siddiqui', u'Tom Dart', u'Dan Roberts and Paul Lewis in Washington', u'Sabrina Siddiqui', u'Sabrina Siddiqui', u'Rowena Mason Political correspondent', u'Andrew Sparrow, Claire Phipps Matthew Weaver and  Nadia Khomami', u'Ana Marie Cox', u'Ed Pilkington', u'Dan Roberts', u'Dan Roberts', u'Ben Jacobs', u'Patrick Wintour', u'Sabrina Siddiqui in Washington and Amanda Holpuch', u'Henry McDonald Ireland correspondent', u'Dan Roberts', u'Nicky Woolf', u'James Bloodworth', u'Lenore Taylor', u'Dan Roberts', u'Paul Lewis', u'Ben Jacobs', u'Sabrina Siddiqui', u'Lenore Taylor Political editor', u'Dave Hill', u'Daniel Boffey', u'Patrick Diamond', u'Henry McDonald Ireland correspondent', u'Rory Carroll', u'Tom McCarthy', u'Sabrina Siddiqui', u'Gabrielle Chan', u'Patrick Wintour Political editor', u'Lenore Taylor Political editor', u'Suzanne Goldenberg', u'Jeb Lund', u'Kristina Keneally', u'Isabel Hilton', u'Van Badham', u'Oliver Wainwright', u'First Dog on the Moon', u'Daniel Hurst Political correspondent', u'Daniel Hurst Political correspondent', u'Ben Jacobs', u'Katharine Murphy Deputy political editor', u'Shalailah Medhora and Daniel Hurst', u'Daniel Hurst Political correspondent', u'Gabrielle Chan', u'Tom Phillips', u'Joseph Mayton', u'Paul Lewis', u'Steven Morris', u'Katharine Murphy Deputy political editor', u'Rowena Mason, political correspondent', u'Jon Swaine', u'Katharine Murphy Deputy political editor', u'Tom Dart', u'Robert Ford', u'Ali Gharib', u'Ben Jacobs', u'Ben Jacobs', u'Saeed Kamali Dehghan', u'Tom McCarthy', u'Shalailah Medhora', u'Alan Yuhas', u'Patrick Wintour Political editor', u'Toby Helm, political editor', u'John Barber', u'Katharine Murphy', u'Dominic Rushe', u'Katharine Murphy Deputy political editor', u'Letters', u'Dan Roberts', u'Owen Bowcott Legal affairs correspondent', u'Mary Dejevsky', u'Libby Brooks Scotland correspondent', u'Andrew Brown', u'Dan Roberts', u'Rory Carroll', u'Stella Creasy', u'Editorial', u'Bridie Jabour', u'Rory Carroll in Bakersfield and Paul Lewis in Washington', u'Ben Summerskill', u'Sophie Walker', u'Joshua Robertson', u'Nicholas Watt Chief political correspondent', u'Owen Bowcott Legal affairs correspondent', u'Jeb Lund', u'Ben Jacobs', u'Dan Roberts', u'John Crace', u'Andrew Rawnsley', u'Debbie Dooley', u'Ashifa Kassam in Madrid and Euclides Montes in London', u'Katharine Murphy', u'Ana Marie Cox', u'Katharine Murphy Deputy political editor', u'Rowena Mason, political correspondent', u'Sophie Heawood', u'Shalailah Medhora', u'Ben Jacobs', u'Jessica Glenza', u'Toby Helm Political Editor', u'Dominic Rushe', u'Suzanne Goldenberg, US environment correspondent', u'Michael Paarlberg', u'Ewen MacAskill', u'Rory Carroll', u'Andrew Rawnsley', u'Anthony Bieniak', u'Nicholas Watt, chief political correspondent', u'Lenore Taylor Political editor', u'John Harris', u'Editorial', u'Frances Perraudin', u'Raya Jalabi', u'Daniel Hurst Political correspondent', u'Dan Roberts', u'Jessica Valenti', u'Spencer Ackerman', u'Frances Perraudin', u'Mark Tran', u'Rowena Mason Political correspondent', u'Ed Pilkington', u'Henry McDonald \\r\\nIreland Correspondent', u'Rory Carroll', u'Rory Carroll', u'Shalailah Medhora', u'Amanda Holpuch', u'Dan Roberts', u'Steve Tsang', u'Rowan Moore', u'Michael Strange', u'Suzanne Goldenberg, US environment correspondent', u'Gabrielle Chan', u'Asheem Singh', u'Farai Chideya', u'Alan Travis, home affairs editor', u'Denis MacShane', u'Editorial', u'Rowena Mason', u'Tom McCarthy', u'Arthur Neslen', u'Frances Perraudin', u'Linda Grant', u'Mariana Mazzucato', u'Ryan Felton', u'Paul Lewis ', u'Ben Jacobs', u'Katharine Murphy and Daniel Hurst', u'Gabrielle Chan', u'Constanze Letsch in Istanbul and Kazim Hekin in Batman', u'Nicholas Watt Chief political correspondent', u'Alberto Nardelli', u'Constanze Letsch in Istanbul and Ian Traynor', u'Ashley Cowburn', u'Zoe Williams', u'Bridie Jabour', u'Rafael Behr', u'Stephen Cushion and Richard Sambrook', u'Alan Yuhas', u'Spencer Ackerman', u'Rowena Mason Political correspondent', u'Greg Jericho', u'Frances Perraudin', u'Lauren Gambino', u'Lauren Gambino', u'Selina Todd', u'Rowena Mason Political correspondent', u'Patrick Wintour Political editor', u'Daniel Hurst Political correspondent', u'Editorial', u'Patrick Wintour Political editor', u'Jonathan Freedland', u'Severin Carrell Scotland correspondent', u'Lenore Taylor Political editor', u'Letters', u'Editorial', u'Nicholas Watt', u'Paul Farrell', u'Diane Abbott', u'Shalailah Medhora', u'Letters', u'Andrew Rawnsley', u'Al Murray', u'Damien Gayle and Patrick Wintour', u'Will Franklin, Troy Griggs,  Glenn Swann, Paul Torpey, Nicola Slawson and Sean Clarke', u'Andrew Sparrow', u'Ashifa Kassam', u'Daniel Boffey', u'Alberto Nardelli', u'Dan Roberts', u'John McDonnell', u'Rafael Behr', u'Martin Kettle', u'Kevin Rawlinson', u'Editorial', u'James Walsh', u'Tom McCarthy', u'George Arnett', u'John Barber', u'George Arnett', u'Ben Jacobs', u'Jon Henley', u'Dan Roberts', u'Paul Lewis', u'Frances Perraudin', u'Ian Traynor  Europe editor', u'Editorial', u'Nicholas Watt and Henry McDonald', u'Peter Scott', u'Dan Roberts ', u'SA Mathieson', u'Lenore Taylor, political editor', u'Charlie Beckett', u'Letters', u'Katharine Murphy Deputy political editor', u'Letters', u'Alex Wodak', u'Rafael Behr', u'Susan Watts', u'Martin Kettle', u'Rowena Mason Political correspondent', u'Sylvie Rousseau, Thibault Soyer and Lauren Cuyvers', u'Larry Elliott Economics editor', u'Terry Eagleton', u'Jessica Elgot', u'Helen Davidson', u'Letters'] \n",
      "439\n",
      "Counter({u'Ben Jacobs': 29, u'Dan Roberts': 24, u'Sabrina Siddiqui': 17, u'Tom McCarthy': 15, u'Paul Lewis': 14, u'Frances Perraudin': 12, u'Jeb Lund': 12, u'Alan Yuhas': 11, u'Editorial': 10, u'Katharine Murphy Deputy political editor': 7, u'Patrick Wintour Political editor': 7, u'Letters': 7, u'Rory Carroll': 6, u'Lauren Gambino': 6, u'Tom Dart': 6, u'Rowena Mason Political correspondent': 5, u'Daniel Hurst Political correspondent': 5, u'Ed Pilkington': 4, u'Lenore Taylor Political editor': 4, u'Amanda Holpuch': 4, u'Shalailah Medhora': 4, u'Nicky Woolf': 4, u'Gabrielle Chan': 4, u'Martin Kettle': 4, u'Martin Pengelly': 4, u'Rowena Mason, political correspondent': 3, u'Daniel Boffey': 3, u'Rafael Behr': 3, u'Suzanne Goldenberg': 3, u'Spencer Ackerman': 3, u'Andrew Rawnsley': 3, u'Jon Swaine': 3, u'Bridie Jabour': 3, u'Jessica Valenti': 3, u'Jessica Glenza': 2, u'Saeed Kamali Dehghan': 2, u'Ana Marie Cox': 2, u'Michael Cohen': 2, u'Owen Bowcott Legal affairs correspondent': 2, u'Katharine Murphy': 2, u'Dominic Rushe': 2, u'John Barber': 2, u'Dan Roberts and Paul Lewis in Washington': 2, u'Dana Nuccitelli': 2, u'Paul Lewis ': 2, u'Ryan Felton': 2, u'Nicholas Watt Chief political correspondent': 2, u'Alberto Nardelli': 2, u'George Arnett': 2, u'Henry McDonald Ireland correspondent': 2, u'Ewen MacAskill': 2, u'John Harris': 2, u'Denis Campbell Health correspondent': 2, u'Suzanne Goldenberg, US environment correspondent': 2, u'Mahita Gajanan': 1, u'Nicholas Watt and Henry McDonald': 1, u'David Boyle': 1, u'Andrew Sparrow, Nadia Khomami and Mark Smith': 1, u'Ben Jacobs in Washington, Sabrina Siddiqui  in Manchester and Jeb Lund': 1, u'Michael Strange': 1, u'John McDonnell': 1, u'Anthony Bieniak': 1, u'Rory Carroll in Bakersfield and Paul Lewis in Washington': 1, u'John Longworth and Caron Lindsay': 1, u'Paul Lewis and Suzanne Goldenberg Washington': 1, u'Anna Leach': 1, u'Larry Elliott Economics editor': 1, u'Steven W Thrasher': 1, u'Joshua Robertson': 1, u'Nicholas Watt': 1, u'James Bloodworth': 1, u'Kayla Epstein': 1, u'Shalailah Medhora and Daniel Hurst': 1, u'Patrick Diamond': 1, u'Kristina Keneally': 1, u'Gustavo Arellano': 1, u'Robert Ford': 1, u'Tom McCarthy in New York and Ben Jacobs in Baltimore': 1, u'Charlie Beckett': 1, u'Debbie Dooley': 1, u'Terry Eagleton': 1, u'Asheem Singh': 1, u'Farai Chideya': 1, u'Dan Roberts and Sabrina Siddiqui Washington': 1, u'Edward Helmore': 1, u'Alan Yuhas and Lauren Gambino in New York': 1, u'Denis Campbell and Owen Bowcott': 1, u'Richard Luscombe': 1, u'Nigel M Smith': 1, u'Julian Borger Diplomatic editor': 1, u'Suzanne Goldenberg US environment correspondent, and Sabrina Siddiqui in Derry, New Hampshire': 1, u'Ben Jacobs and Russ Choma in Washington': 1, u'Ian Traynor  Europe editor': 1, u'Scott Lemieux': 1, u'Mary Dejevsky': 1, u'Ben Jacobs in Washington and Tom Dart': 1, u'Zoe Williams': 1, u'First Dog on the Moon': 1, u'Steven Morris': 1, u'Constanze Letsch in Istanbul and Ian Traynor': 1, u'Gary Younge': 1, u'Stephen Cushion and Richard Sambrook': 1, u'Donna Ferguson': 1, u'Ben Summerskill': 1, u'Paul Lewis  and Dan Roberts in Washington': 1, u'Andrew Sparrow,  Jamie Grierson and Peter Walker': 1, u'Sophie Heawood': 1, u'Adam Gabbatt': 1, u'Hadley Freeman': 1, u'Sylvie Rousseau, Thibault Soyer and Lauren Cuyvers': 1, u'Van Badham': 1, u'Alan Yuhas with Paul Lewis in Cleveland, Jeb Lund in Tampa, Ben Jacobs in Atlanta, Dan Roberts and Sabrina Siddiqui in Washington and Adam Gabbatt in New York': 1, u'Peter Scott': 1, u'Andrew Sparrow, Claire Phipps Matthew Weaver and  Nadia Khomami': 1, u'Ali Gharib': 1, u'Kim Thomas and Jane Dudman': 1, u'Andrew Sparrow': 1, u'Al Murray': 1, u'Lenore Taylor, political editor': 1, u'Dr David Givens': 1, u'Karl Mathiesen': 1, u'Mark Tran': 1, u'Mariana Mazzucato': 1, u'Paul Lewis and Dan Roberts in Washington': 1, u'Rose Hackman': 1, u'Tom Phillips': 1, u'Kevin Rawlinson': 1, u'Edward Helmore and Ben Jacobs': 1, u'Daniel Hurst and Shalailah Medhora': 1, u'Jessica Elgot': 1, u'Henry McDonald \\r\\nIreland Correspondent': 1, u'Libby Brooks Scotland correspondent': 1, u'Nicholas Watt and Patrick Wintour': 1, u'Katharine Murphy and Daniel Hurst': 1, u'Greg Jericho': 1, u'David Crouch': 1, u'Toby Helm, political editor': 1, u'Oliver Wainwright': 1, u'Lenore Taylor': 1, u'Owen Gibson': 1, u'Dan Roberts ': 1, u'Helen Davidson': 1, u'Observer editorial': 1, u'Ben Jacobs ': 1, u'Tom McCarthy in New York and Ben Jacobs in Washington': 1, u'Dan Roberts in Washington and Martin Pengelly in New York': 1, u'Severin Carrell Scotland correspondent': 1, u'Arthur Neslen': 1, u'Kevin Rawlinson and agencies': 1, u'Ashifa Kassam': 1, u'Constanze Letsch in Istanbul and Kazim Hekin in Batman': 1, u'Scott Keyes': 1, u'Andrew Sparrow , Jamie Grierson, Claire Phipps and Mark Smith': 1, u'Diane Abbott': 1, u'Michael Paarlberg': 1, u'Patrick Wintour, political editor': 1, u'Toby Helm Political Editor': 1, u'Alberto Nardelli , Feilding Cage and Kenton Powell': 1, u'Monica Tan and Matthew Weaver': 1, u'Patrick Wintour': 1, u'David Dayen': 1, u'Jonathan Freedland': 1, u'James Walsh': 1, u'Jon Henley': 1, u'Frances Perraudin\\r\\n': 1, u'Rowena Mason': 1, u'Ben Jacobs in Washington and Alan Yuhas in New York': 1, u'Denis MacShane': 1, u'Andrew Brown': 1, u'Ashley Cowburn': 1, u'Joseph Mayton': 1, u'Selina Todd': 1, u'Rupert Myers': 1, u'Isabel Hilton': 1, u'Saba Ahmed': 1, u'Linda Grant': 1, u'Damien Gayle and Patrick Wintour': 1, u'Stella Creasy': 1, u'Toby Helm': 1, u'Alan Travis, home affairs editor': 1, u'Susan Watts': 1, u'Will Franklin, Troy Griggs,  Glenn Swann, Paul Torpey, Nicola Slawson and Sean Clarke': 1, u'Rowan Moore': 1, u'John Crace': 1, u'Dave Hill': 1, u'Sabrina Siddiqui in Washington and Amanda Holpuch': 1, u'Peter Beaumont': 1, u'Sophie Walker': 1, u'Alex Wodak': 1, u'Ashifa Kassam in Madrid and Euclides Montes in London': 1, u'Jessica Murphy': 1, u'Steve Tsang': 1, u'Ryan Felton in Detroit and Associated Press': 1, u'Nicholas Watt, chief political correspondent': 1, u'Raya Jalabi': 1, u'Sam Thielman': 1, u'Jana Kasperkevic': 1, u'SA Mathieson': 1, u'Nadia Khomami, Claire Phippsand Andrew Sparrow': 1, u'Paul Farrell': 1, u'Oliver Laughland': 1})\n"
     ]
    }
   ],
   "source": [
    "def make_dict(loc=False):\n",
    "    authors = []\n",
    "    names = []\n",
    "    auth_ar = defaultdict(dd)\n",
    "    for b in range(len(all_data)):\n",
    "        if \"fields\" in all_data[b]:\n",
    "            if \"blocks\" in all_data[b]:\n",
    "                #print b\n",
    "                nm = all_data[b][\"fields\"][\"byline\"].strip()#.decode(\"utf-8\")\n",
    "                #print nm\n",
    "                authors.append(nm)\n",
    "                if not loc:\n",
    "                    nm = get_human_names(all_data[b][\"fields\"][\"byline\"])\n",
    "                names.append(nm)\n",
    "                auth_ar[nm] += all_data[b][\"blocks\"][\"body\"][0][\"bodyTextSummary\"]\n",
    "    return names, auth_ar\n",
    "names, auth_ar = make_dict()\n",
    "print names, \"\\n\", len(names)\n",
    "#pprint(authors)\n",
    "counts = Counter(names)\n",
    "print(counts)"
   ]
  },
  {
   "cell_type": "code",
   "execution_count": 212,
   "metadata": {
    "collapsed": false
   },
   "outputs": [
    {
     "name": "stdout",
     "output_type": "stream",
     "text": [
      "38157\n"
     ]
    }
   ],
   "source": [
    "#politics\n",
    "print len(auth_ar[\"Frances Perraudin\"])\n",
    "#sports\n",
    "#print len(auth_ar[\"Les Carpenter\"])\n",
    "#scence\n",
    "#print len(auth_ar[\"Stuart Clark\"])\n",
    "#arts\n",
    "#print len(auth_ar[\"Jonathan Jones\"])"
   ]
  },
  {
   "cell_type": "code",
   "execution_count": 1,
   "metadata": {
    "collapsed": false,
    "scrolled": false
   },
   "outputs": [
    {
     "ename": "NameError",
     "evalue": "name 'sent_tokenize' is not defined",
     "output_type": "error",
     "traceback": [
      "\u001b[1;31m---------------------------------------------------------------------------\u001b[0m",
      "\u001b[1;31mNameError\u001b[0m                                 Traceback (most recent call last)",
      "\u001b[1;32m<ipython-input-1-ef6a1ce521dd>\u001b[0m in \u001b[0;36m<module>\u001b[1;34m()\u001b[0m\n\u001b[0;32m      1\u001b[0m \u001b[1;31m#politics\u001b[0m\u001b[1;33m\u001b[0m\u001b[1;33m\u001b[0m\u001b[0m\n\u001b[1;32m----> 2\u001b[1;33m \u001b[1;32mprint\u001b[0m \u001b[0mlen\u001b[0m\u001b[1;33m(\u001b[0m\u001b[0msent_tokenize\u001b[0m\u001b[1;33m(\u001b[0m\u001b[0mauth_ar\u001b[0m\u001b[1;33m[\u001b[0m\u001b[1;34m\"Paul Lewis\"\u001b[0m\u001b[1;33m]\u001b[0m\u001b[1;33m)\u001b[0m\u001b[1;33m)\u001b[0m\u001b[1;33m\u001b[0m\u001b[0m\n\u001b[0m\u001b[0;32m      3\u001b[0m \u001b[1;32mprint\u001b[0m \u001b[0msent_tokenize\u001b[0m\u001b[1;33m(\u001b[0m\u001b[0mauth_ar\u001b[0m\u001b[1;33m[\u001b[0m\u001b[1;34m\"Paul Lewis\"\u001b[0m\u001b[1;33m]\u001b[0m\u001b[1;33m)\u001b[0m\u001b[1;33m[\u001b[0m\u001b[1;36m0\u001b[0m\u001b[1;33m]\u001b[0m\u001b[1;33m\u001b[0m\u001b[0m\n\u001b[0;32m      4\u001b[0m \u001b[1;31m#sports\u001b[0m\u001b[1;33m\u001b[0m\u001b[1;33m\u001b[0m\u001b[0m\n\u001b[0;32m      5\u001b[0m \u001b[1;31m#print len(sent_tokenize(auth_ar[\"Les Carpenter\"]))\u001b[0m\u001b[1;33m\u001b[0m\u001b[1;33m\u001b[0m\u001b[0m\n",
      "\u001b[1;31mNameError\u001b[0m: name 'sent_tokenize' is not defined"
     ]
    }
   ],
   "source": [
    "#politics\n",
    "print len(sent_tokenize(auth_ar[\"Paul Lewis\"]))\n",
    "print sent_tokenize(auth_ar[\"Paul Lewis\"])[0]\n",
    "#sports\n",
    "#print len(sent_tokenize(auth_ar[\"Les Carpenter\"]))\n",
    "#science\n",
    "#print len(sent_tokenize(auth_ar[\"Stuart Clark\"]))\n",
    "#arts\n",
    "#print len(sent_tokenize(auth_ar[\"Jonathan Jones\"]))"
   ]
  },
  {
   "cell_type": "code",
   "execution_count": 214,
   "metadata": {
    "collapsed": false
   },
   "outputs": [
    {
     "name": "stdout",
     "output_type": "stream",
     "text": [
      "Sabrina Siddiqui 582\n",
      "Paul Lewis 678\n",
      "Tom McCarthy 576\n",
      "Dan Roberts 549\n",
      "Ben Jacobs 675\n",
      "Jeb Lund 520\n"
     ]
    }
   ],
   "source": [
    "sents = {}\n",
    "for author, text in auth_ar.iteritems():\n",
    "    sent = sent_tokenize(text)\n",
    "    if len(sent) > 400:\n",
    "        sents[author] = sent\n",
    "        print author, len(sent)"
   ]
  },
  {
   "cell_type": "code",
   "execution_count": 215,
   "metadata": {
    "collapsed": false
   },
   "outputs": [],
   "source": [
    "with open(topic+\"_author_articles.pkl\", 'w') as out_auth_ar:\n",
    "    pickle.dump(auth_ar, out_auth_ar)\n",
    "with open(topic+\"_auth_sents.pkl\", 'w') as outs:\n",
    "    pickle.dump(sents, outs)"
   ]
  },
  {
   "cell_type": "code",
   "execution_count": 6,
   "metadata": {
    "collapsed": false
   },
   "outputs": [],
   "source": [
    "with open(topic+\"_author_articles.pkl\", 'r') as auth_ar_in:\n",
    "    auth_ar = pickle.load(auth_ar_in)\n",
    "with open(topic+\"_auth_sents.pkl\", 'r') as ins:\n",
    "    sents = pickle.load(ins)\n",
    "    "
   ]
  },
  {
   "cell_type": "code",
   "execution_count": 217,
   "metadata": {
    "collapsed": true
   },
   "outputs": [],
   "source": [
    "def get_frequencies(len_w, counts, subset=False, log=True):\n",
    "    '''takes number tokens as float,list of (k, v), and converts v from int count to frequency.\n",
    "    If subset, takes frequency over the counts rather than the whole\n",
    "    set of tokens'''\n",
    "    freqs = []\n",
    "    sorted_counts = zip(*sorted(counts.items()))[1]\n",
    "\n",
    "    countsum = float(sum(sorted_counts))\n",
    "    for sc in sorted_counts:\n",
    "        if subset:\n",
    "            if countsum > 0.0:\n",
    "                freqs.append(sc/countsum)\n",
    "            else:\n",
    "                freqs.append(0.0)\n",
    "        else:\n",
    "            fs = sc/len_w\n",
    "            if log:\n",
    "                if fs > 0.0:\n",
    "                    f = abs(math.log(fs)) #log of fs will always be negative, and mnb can't handle that\n",
    "                    freqs.append(f)\n",
    "                else:\n",
    "                    freqs.append(0.0)\n",
    "            else:\n",
    "                freqs.append(fs)\n",
    "    return freqs"
   ]
  },
  {
   "cell_type": "code",
   "execution_count": 218,
   "metadata": {
    "collapsed": false
   },
   "outputs": [
    {
     "name": "stdout",
     "output_type": "stream",
     "text": [
      "Paul Lewis\n",
      "Dan Roberts\n",
      "Jeb Lund\n",
      "Tom McCarthy\n",
      "Ben Jacobs\n",
      "Sabrina Siddiqui\n",
      "[(1, u'Paul Lewis'), (2, u'Dan Roberts'), (3, u'Jeb Lund'), (4, u'Tom McCarthy'), (5, u'Ben Jacobs'), (6, u'Sabrina Siddiqui')]\n",
      "[('len_s', 21), ('len_w', 4.619047619047619), (u'!', 0), (u'\"', 0), (u'#', 0), (u'$', 0), (u'%', 0), (u'&', 0), (u\"'\", 0), (u\"''\", 0), (u'(', 0), (u')', 0), (u'*', 0), (u'+', 0), (u',', 2), (u'-', 0), (u'.', 1), (u'/', 0), (u':', 0), (u';', 0), (u'<', 0), (u'=', 0), (u'>', 0), (u'?', 0), (u'@', 0), (u'[', 0), (u'\\\\', 0), (u']', 0), (u'^', 0), (u'_', 0), (u'`', 0), (u'``', 0), (u'{', 0), (u'|', 0), (u'}', 0), (u'~', 0), (u'\\u2013', 0), (\"'s\", 0), (\"'t\", 0), (u'a', 0), (u'about', 0), (u'above', 0), (u'after', 0), (u'again', 0), (u'against', 0), (u'all', 0), (u'am', 0), (u'an', 0), (u'and', 0), (u'any', 0), (u'are', 0), (u'as', 0), (u'at', 0), (u'be', 0), (u'because', 0), (u'been', 0), (u'before', 0), (u'being', 0), (u'below', 0), (u'between', 0), (u'both', 0), (u'but', 0), (u'by', 0), (u'can', 0), (u'did', 0), (u'do', 0), (u'does', 0), (u'doing', 0), (u'don', 0), (u'down', 0), (u'during', 0), (u'each', 0), (u'few', 0), (u'for', 0), (u'from', 0), (u'further', 0), (u'had', 0), (u'has', 0), (u'have', 0), (u'having', 0), (u'he', 0), (u'her', 0), (u'here', 0), (u'hers', 0), (u'herself', 0), (u'him', 0), (u'himself', 0), (u'his', 0), (u'how', 0), (u'i', 0), (u'if', 0), (u'in', 0), (u'into', 0), (u'is', 0), (u'it', 0), (u'its', 0), (u'itself', 0), (u'just', 0), (u'me', 0), (u'more', 0), (u'most', 0), (u'my', 0), (u'myself', 0), (u'no', 0), (u'nor', 0), (u'not', 0), (u'now', 0), (u'of', 1), (u'off', 0), (u'on', 1), (u'once', 0), (u'only', 0), (u'or', 0), (u'other', 0), (u'our', 0), (u'ours', 0), (u'ourselves', 0), (u'out', 0), (u'over', 0), (u'own', 0), (u's', 0), (u'same', 0), (u'she', 0), (u'should', 0), (u'so', 0), (u'some', 0), (u'such', 0), (u't', 0), (u'than', 0), (u'that', 0), (u'the', 2), (u'their', 0), (u'theirs', 0), (u'them', 0), (u'themselves', 0), (u'then', 0), (u'there', 0), (u'these', 0), (u'they', 0), (u'this', 0), (u'those', 0), (u'through', 0), (u'to', 1), (u'too', 0), (u'under', 0), (u'until', 0), (u'up', 0), (u'very', 0), (u'was', 1), (u'we', 0), (u'were', 0), (u'what', 0), (u'when', 0), (u'where', 0), (u'which', 0), (u'while', 0), (u'who', 0), (u'whom', 0), (u'why', 0), (u'will', 0), (u'with', 0), (u'you', 0), (u'your', 0), (u'yours', 0), (u'yourself', 0), (u'yourselves', 0)]\n"
     ]
    }
   ],
   "source": [
    "sp = string.punctuation\n",
    "sp = unicode(sp)\n",
    "punct = [s for s in sp]\n",
    "\n",
    "#punct = [u'!', u'$', u'%', u'?', u':', u';', u'``', u\"''\", u'\\u2013']\n",
    "punct.append(u'``')\n",
    "punct.append(u\"''\")\n",
    "punct.append(u'\\u2013')\n",
    "\n",
    "'''[(u'!', 0), (u'\"', 0), (u'#', 0), (u'$', 0), (u'%', 0), (u'&', 0), \n",
    "    (u\"'\", 0), (u\"''\", 1), (u'(', 0), (u')', 0), (u'*', 0), (u'+', 0), \n",
    "    (u',', 1), (u'-', 0), (u'.', 1), (u'/', 0), (u':', 0), (u';', 0), \n",
    "    (u'<', 0), (u'=', 0), (u'>', 0), (u'?', 0), (u'@', 0), (u'[', 0), \n",
    "    (u'\\\\', 0), (u']', 0), (u'^', 0), (u'_', 0), (u'`', 0), (u'``', 1), \n",
    "    (u'{', 0), (u'|', 0), (u'}', 0), (u'~', 0), (u'\\u2013', 0)]'''\n",
    "\n",
    "#print punct, len(punct)\n",
    "swords = stopwords.words('english')\n",
    "swords.append('\\'s')\n",
    "swords.append('\\'t')\n",
    "#print swords\n",
    "\n",
    "#swear_words = [u'hell', u'shit', u'']\n",
    "featuresli = []\n",
    "authors = []\n",
    "raw_features = []\n",
    "\n",
    "def pd():\n",
    "    return 0\n",
    "label = 1\n",
    "labels = []\n",
    "for author, sentences in sents.iteritems():\n",
    "    print author\n",
    "    \n",
    "    for s in sentences:\n",
    "        #punct_counts = defaultdict(pd)\n",
    "        punct_counts = dict.fromkeys(punct, 0)\n",
    "        sword_counts = dict.fromkeys(swords, 0)\n",
    "        features = []\n",
    "        len_w = 0.0\n",
    "        count_w = 0.0\n",
    "        s = s.replace(u\"\\u2018\", \"'\").replace(u\"\\u2019\", \"'\") \\\n",
    "            .replace(u\"\\u201c\",'\"').replace(u\"\\u201d\", '\"') \\\n",
    "            .replace(u\"\\u030F\", '\"').replace(u\"''\", '\"')\n",
    "        words = word_tokenize(s) #punctuation is included as words\n",
    "        #print s, \"\\n\", [s]\n",
    "        #print len(words)\n",
    "        for word in words:\n",
    "            word = word.lower()\n",
    "            #print word, [word]               \n",
    "            if word in punct:# or word[0] in punct:\n",
    "                punct_counts[word] += 1\n",
    "            elif word in swords:\n",
    "                sword_counts[word] += 1\n",
    "            len_w += len(word)\n",
    "            count_w += 1\n",
    "        avg_wlen = len_w/count_w\n",
    "        #print avg_wlen\n",
    "        punct_freq = get_frequencies(len_w, punct_counts)#zip(*sorted(punct_counts.items()))[1]\n",
    "        sword_freq = get_frequencies(len_w, sword_counts)#zip(*sorted(sword_counts.items()))[1]\n",
    "        #print punct_freq\n",
    "        #print sword_freq\n",
    "        #print sorted(punct_counts.items())\n",
    "        features.append(len(words)) #total number of tokens in sentence\n",
    "        features.append(avg_wlen) #average word/token length\n",
    "        features += punct_freq #frequency of punctuation tokens\n",
    "        features += sword_freq #frequency of stopword tokens\n",
    "        rf = [('len_s', len(words)), ('len_w', avg_wlen)]\n",
    "        rf += sorted(punct_counts.items()) + sorted(sword_counts.items())\n",
    "        #print rf\n",
    "        featuresli.append(features)\n",
    "        authors.append(label)\n",
    "        raw_features.append(rf)\n",
    "        \n",
    "    labels.append((label, author))\n",
    "    label += 1\n",
    "\n",
    "print labels\n",
    "print raw_features[0]\n",
    "#print authors\n",
    "#print featuresli\n",
    "        "
   ]
  },
  {
   "cell_type": "code",
   "execution_count": 219,
   "metadata": {
    "collapsed": true
   },
   "outputs": [],
   "source": [
    "with open(topic+\"_authors.pkl\", 'w') as out_auths:\n",
    "    pickle.dump(authors, out_auths)\n",
    "with open(topic+\"_features.pkl\", 'w') as outs:\n",
    "    pickle.dump(featuresli, outs)\n",
    "with open(topic+\"_labels.pkl\", 'w') as louts:\n",
    "    pickle.dump(labels, louts)\n",
    "with open(topic+\"_raw_features.pkl\", 'w') as rfouts:\n",
    "    pickle.dump(raw_features, rfouts)"
   ]
  },
  {
   "cell_type": "code",
   "execution_count": null,
   "metadata": {
    "collapsed": true
   },
   "outputs": [],
   "source": []
  },
  {
   "cell_type": "code",
   "execution_count": null,
   "metadata": {
    "collapsed": true
   },
   "outputs": [],
   "source": []
  }
 ],
 "metadata": {
  "kernelspec": {
   "display_name": "Python 2",
   "language": "python",
   "name": "python2"
  },
  "language_info": {
   "codemirror_mode": {
    "name": "ipython",
    "version": 2
   },
   "file_extension": ".py",
   "mimetype": "text/x-python",
   "name": "python",
   "nbconvert_exporter": "python",
   "pygments_lexer": "ipython2",
   "version": "2.7.6"
  }
 },
 "nbformat": 4,
 "nbformat_minor": 0
}
